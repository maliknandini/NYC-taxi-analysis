{
 "cells": [
  {
   "cell_type": "markdown",
   "metadata": {},
   "source": [
    "# Part 1"
   ]
  },
  {
   "cell_type": "code",
   "execution_count": 792,
   "metadata": {},
   "outputs": [],
   "source": [
    "#importing required libraries\n",
    "\n",
    "import numpy as np\n",
    "import pandas as pd\n",
    "import seaborn \n",
    "import matplotlib.pyplot as plt\n",
    "import sklearn"
   ]
  },
  {
   "cell_type": "code",
   "execution_count": 794,
   "metadata": {},
   "outputs": [],
   "source": [
    "#reading csv from the web\n",
    "\n",
    "data = pd.read_csv(\"https://s3.amazonaws.com/nyc-tlc/trip+data/green_tripdata_2015-09.csv\")"
   ]
  },
  {
   "cell_type": "code",
   "execution_count": 795,
   "metadata": {},
   "outputs": [
    {
     "data": {
      "text/plain": [
       "(1494926, 21)"
      ]
     },
     "execution_count": 795,
     "metadata": {},
     "output_type": "execute_result"
    }
   ],
   "source": [
    "data.shape"
   ]
  },
  {
   "cell_type": "markdown",
   "metadata": {
    "collapsed": true
   },
   "source": [
    " Answer - We have 1494926 rows and 21 columns in the data"
   ]
  },
  {
   "cell_type": "code",
   "execution_count": 796,
   "metadata": {},
   "outputs": [
    {
     "data": {
      "text/html": [
       "<div>\n",
       "<table border=\"1\" class=\"dataframe\">\n",
       "  <thead>\n",
       "    <tr style=\"text-align: right;\">\n",
       "      <th></th>\n",
       "      <th>VendorID</th>\n",
       "      <th>lpep_pickup_datetime</th>\n",
       "      <th>Lpep_dropoff_datetime</th>\n",
       "      <th>Store_and_fwd_flag</th>\n",
       "      <th>RateCodeID</th>\n",
       "      <th>Pickup_longitude</th>\n",
       "      <th>Pickup_latitude</th>\n",
       "      <th>Dropoff_longitude</th>\n",
       "      <th>Dropoff_latitude</th>\n",
       "      <th>Passenger_count</th>\n",
       "      <th>...</th>\n",
       "      <th>Fare_amount</th>\n",
       "      <th>Extra</th>\n",
       "      <th>MTA_tax</th>\n",
       "      <th>Tip_amount</th>\n",
       "      <th>Tolls_amount</th>\n",
       "      <th>Ehail_fee</th>\n",
       "      <th>improvement_surcharge</th>\n",
       "      <th>Total_amount</th>\n",
       "      <th>Payment_type</th>\n",
       "      <th>Trip_type</th>\n",
       "    </tr>\n",
       "  </thead>\n",
       "  <tbody>\n",
       "    <tr>\n",
       "      <th>0</th>\n",
       "      <td>2</td>\n",
       "      <td>2015-09-01 00:02:34</td>\n",
       "      <td>2015-09-01 00:02:38</td>\n",
       "      <td>N</td>\n",
       "      <td>5</td>\n",
       "      <td>-73.979485</td>\n",
       "      <td>40.684956</td>\n",
       "      <td>-73.979431</td>\n",
       "      <td>40.685020</td>\n",
       "      <td>1</td>\n",
       "      <td>...</td>\n",
       "      <td>7.8</td>\n",
       "      <td>0.0</td>\n",
       "      <td>0.0</td>\n",
       "      <td>1.95</td>\n",
       "      <td>0.0</td>\n",
       "      <td>NaN</td>\n",
       "      <td>0.0</td>\n",
       "      <td>9.75</td>\n",
       "      <td>1</td>\n",
       "      <td>2.0</td>\n",
       "    </tr>\n",
       "    <tr>\n",
       "      <th>1</th>\n",
       "      <td>2</td>\n",
       "      <td>2015-09-01 00:04:20</td>\n",
       "      <td>2015-09-01 00:04:24</td>\n",
       "      <td>N</td>\n",
       "      <td>5</td>\n",
       "      <td>-74.010796</td>\n",
       "      <td>40.912216</td>\n",
       "      <td>-74.010780</td>\n",
       "      <td>40.912212</td>\n",
       "      <td>1</td>\n",
       "      <td>...</td>\n",
       "      <td>45.0</td>\n",
       "      <td>0.0</td>\n",
       "      <td>0.0</td>\n",
       "      <td>0.00</td>\n",
       "      <td>0.0</td>\n",
       "      <td>NaN</td>\n",
       "      <td>0.0</td>\n",
       "      <td>45.00</td>\n",
       "      <td>1</td>\n",
       "      <td>2.0</td>\n",
       "    </tr>\n",
       "    <tr>\n",
       "      <th>2</th>\n",
       "      <td>2</td>\n",
       "      <td>2015-09-01 00:01:50</td>\n",
       "      <td>2015-09-01 00:04:24</td>\n",
       "      <td>N</td>\n",
       "      <td>1</td>\n",
       "      <td>-73.921410</td>\n",
       "      <td>40.766708</td>\n",
       "      <td>-73.914413</td>\n",
       "      <td>40.764687</td>\n",
       "      <td>1</td>\n",
       "      <td>...</td>\n",
       "      <td>4.0</td>\n",
       "      <td>0.5</td>\n",
       "      <td>0.5</td>\n",
       "      <td>0.50</td>\n",
       "      <td>0.0</td>\n",
       "      <td>NaN</td>\n",
       "      <td>0.3</td>\n",
       "      <td>5.80</td>\n",
       "      <td>1</td>\n",
       "      <td>1.0</td>\n",
       "    </tr>\n",
       "    <tr>\n",
       "      <th>3</th>\n",
       "      <td>2</td>\n",
       "      <td>2015-09-01 00:02:36</td>\n",
       "      <td>2015-09-01 00:06:42</td>\n",
       "      <td>N</td>\n",
       "      <td>1</td>\n",
       "      <td>-73.921387</td>\n",
       "      <td>40.766678</td>\n",
       "      <td>-73.931427</td>\n",
       "      <td>40.771584</td>\n",
       "      <td>1</td>\n",
       "      <td>...</td>\n",
       "      <td>5.0</td>\n",
       "      <td>0.5</td>\n",
       "      <td>0.5</td>\n",
       "      <td>0.00</td>\n",
       "      <td>0.0</td>\n",
       "      <td>NaN</td>\n",
       "      <td>0.3</td>\n",
       "      <td>6.30</td>\n",
       "      <td>2</td>\n",
       "      <td>1.0</td>\n",
       "    </tr>\n",
       "    <tr>\n",
       "      <th>4</th>\n",
       "      <td>2</td>\n",
       "      <td>2015-09-01 00:00:14</td>\n",
       "      <td>2015-09-01 00:04:20</td>\n",
       "      <td>N</td>\n",
       "      <td>1</td>\n",
       "      <td>-73.955482</td>\n",
       "      <td>40.714046</td>\n",
       "      <td>-73.944412</td>\n",
       "      <td>40.714729</td>\n",
       "      <td>1</td>\n",
       "      <td>...</td>\n",
       "      <td>5.0</td>\n",
       "      <td>0.5</td>\n",
       "      <td>0.5</td>\n",
       "      <td>0.00</td>\n",
       "      <td>0.0</td>\n",
       "      <td>NaN</td>\n",
       "      <td>0.3</td>\n",
       "      <td>6.30</td>\n",
       "      <td>2</td>\n",
       "      <td>1.0</td>\n",
       "    </tr>\n",
       "  </tbody>\n",
       "</table>\n",
       "<p>5 rows × 21 columns</p>\n",
       "</div>"
      ],
      "text/plain": [
       "   VendorID lpep_pickup_datetime Lpep_dropoff_datetime Store_and_fwd_flag  \\\n",
       "0         2  2015-09-01 00:02:34   2015-09-01 00:02:38                  N   \n",
       "1         2  2015-09-01 00:04:20   2015-09-01 00:04:24                  N   \n",
       "2         2  2015-09-01 00:01:50   2015-09-01 00:04:24                  N   \n",
       "3         2  2015-09-01 00:02:36   2015-09-01 00:06:42                  N   \n",
       "4         2  2015-09-01 00:00:14   2015-09-01 00:04:20                  N   \n",
       "\n",
       "   RateCodeID  Pickup_longitude  Pickup_latitude  Dropoff_longitude  \\\n",
       "0           5        -73.979485        40.684956         -73.979431   \n",
       "1           5        -74.010796        40.912216         -74.010780   \n",
       "2           1        -73.921410        40.766708         -73.914413   \n",
       "3           1        -73.921387        40.766678         -73.931427   \n",
       "4           1        -73.955482        40.714046         -73.944412   \n",
       "\n",
       "   Dropoff_latitude  Passenger_count     ...      Fare_amount  Extra  MTA_tax  \\\n",
       "0         40.685020                1     ...              7.8    0.0      0.0   \n",
       "1         40.912212                1     ...             45.0    0.0      0.0   \n",
       "2         40.764687                1     ...              4.0    0.5      0.5   \n",
       "3         40.771584                1     ...              5.0    0.5      0.5   \n",
       "4         40.714729                1     ...              5.0    0.5      0.5   \n",
       "\n",
       "   Tip_amount  Tolls_amount  Ehail_fee  improvement_surcharge  Total_amount  \\\n",
       "0        1.95           0.0        NaN                    0.0          9.75   \n",
       "1        0.00           0.0        NaN                    0.0         45.00   \n",
       "2        0.50           0.0        NaN                    0.3          5.80   \n",
       "3        0.00           0.0        NaN                    0.3          6.30   \n",
       "4        0.00           0.0        NaN                    0.3          6.30   \n",
       "\n",
       "   Payment_type  Trip_type   \n",
       "0             1         2.0  \n",
       "1             1         2.0  \n",
       "2             1         1.0  \n",
       "3             2         1.0  \n",
       "4             2         1.0  \n",
       "\n",
       "[5 rows x 21 columns]"
      ]
     },
     "execution_count": 796,
     "metadata": {},
     "output_type": "execute_result"
    }
   ],
   "source": [
    "#having a look at the data\n",
    "data.head() "
   ]
  },
  {
   "cell_type": "markdown",
   "metadata": {},
   "source": [
    "# Part 2"
   ]
  },
  {
   "cell_type": "code",
   "execution_count": 801,
   "metadata": {},
   "outputs": [],
   "source": [
    "#taking entries where trip distance is at least 1 mile\n",
    "data = data[data['Trip_distance'] >= 1] \n"
   ]
  },
  {
   "cell_type": "code",
   "execution_count": 803,
   "metadata": {},
   "outputs": [
    {
     "data": {
      "image/png": "[encoded data removed]",
      "text/plain": [
       "<matplotlib.figure.Figure at 0x122869cc0>"
      ]
     },
     "metadata": {},
     "output_type": "display_data"
    }
   ],
   "source": [
    "#Plotting histagram for trip distances\n",
    "_ = plt.hist(data['Trip_distance'], bins = 600)\n",
    "_ = plt.xlim(0,23)\n",
    "_ = plt.xlabel('Trip distances')\n",
    "plt.savefig('trip_hist')"
   ]
  },
  {
   "cell_type": "markdown",
   "metadata": {},
   "source": [
    "Insights: \n",
    "\n",
    "- We see that the count for the trip distance decreases with the trip distance. \n",
    "- Most people travel for 0-5 miles. Modal distance lies somewhere between 0-4 miles. \n",
    "- There are very few people traveling farther than around 12 miles (Outliers).\n",
    "- The data is unimodal.\n",
    "- Asymmetrical data - The data is right skewed. \n",
    "- Since the modal distance is small, it seems like people are mostly taking taxis to travel within boroughs, instead of going to other boroughs and other states or outside of NYC. \n",
    "\n"
   ]
  },
  {
   "cell_type": "markdown",
   "metadata": {},
   "source": [
    "# Part 3\n"
   ]
  },
  {
   "cell_type": "code",
   "execution_count": 824,
   "metadata": {},
   "outputs": [
    {
     "name": "stdout",
     "output_type": "stream",
     "text": [
      "lpep_pickup_datetime\n",
      "0     3.680187\n",
      "1     3.617273\n",
      "2     3.660717\n",
      "3     3.844649\n",
      "4     4.185005\n",
      "5     4.840480\n",
      "6     4.751463\n",
      "7     3.965864\n",
      "8     3.738962\n",
      "9     3.715683\n",
      "10    3.640688\n",
      "11    3.604749\n",
      "12    3.588875\n",
      "13    3.566767\n",
      "14    3.539186\n",
      "15    3.526950\n",
      "16    3.418987\n",
      "17    3.297270\n",
      "18    3.242676\n",
      "19    3.291626\n",
      "20    3.343581\n",
      "21    3.582918\n",
      "22    3.765448\n",
      "23    3.764430\n",
      "Name: Trip_distance, dtype: float64\n",
      "lpep_pickup_datetime\n",
      "0     2.730\n",
      "1     2.700\n",
      "2     2.710\n",
      "3     2.800\n",
      "4     3.000\n",
      "5     3.580\n",
      "6     3.520\n",
      "7     2.840\n",
      "8     2.660\n",
      "9     2.680\n",
      "10    2.600\n",
      "11    2.500\n",
      "12    2.500\n",
      "13    2.460\n",
      "14    2.430\n",
      "15    2.400\n",
      "16    2.350\n",
      "17    2.300\n",
      "18    2.310\n",
      "19    2.380\n",
      "20    2.415\n",
      "21    2.600\n",
      "22    2.750\n",
      "23    2.780\n",
      "Name: Trip_distance, dtype: float64\n"
     ]
    }
   ],
   "source": [
    "#converting pickup time column to datetime column\n",
    "times = pd.to_datetime(data.lpep_pickup_datetime)\n",
    "\n",
    "#converting the time to hour of the day and group by the hour, and finding the mean and median trip distances\n",
    "print(data.groupby(times.dt.hour).Trip_distance.mean())\n",
    "print(data.groupby(times.dt.hour).Trip_distance.median())\n",
    "\n",
    "#following are the mean distances, followed by the medians\n"
   ]
  },
  {
   "cell_type": "markdown",
   "metadata": {},
   "source": [
    "We can see the mean and median trip distances above. \n",
    "- We see that the mean distance is highest at 5 AM and median distance is highest at 5 AM as well."
   ]
  },
  {
   "cell_type": "markdown",
   "metadata": {},
   "source": [
    "Part b - Analyzing trips originating from and terminating at NYC area airports (JFK)"
   ]
  },
  {
   "cell_type": "code",
   "execution_count": 828,
   "metadata": {},
   "outputs": [
    {
     "name": "stdout",
     "output_type": "stream",
     "text": [
      "2559\n"
     ]
    },
    {
     "data": {
      "text/plain": [
       "64.003016803438854"
      ]
     },
     "execution_count": 828,
     "metadata": {},
     "output_type": "execute_result"
    }
   ],
   "source": [
    "#Taking all trips with rate code ID 2 because these are the trips that originate from or end at the JFk airport.\n",
    "df = data[data['RateCodeID'] == 2]\n",
    "\n",
    "#counting the number of trips originating or ending at the JFK airport\n",
    "print(len(df)) \n",
    "\n",
    "#Taking average of the fare amounts of airport trips\n",
    "df['Total_amount'].mean() "
   ]
  },
  {
   "cell_type": "markdown",
   "metadata": {},
   "source": [
    "Hence there are 2559 trips originating at or ending at the JFK airport- hence 2559 transactions fit this criteria.\n",
    "The average total fare amount for these trips is ~$64\n",
    "We could improve our analysis of airport trips by taking taking a rough estimate of the geo coordinates of the airport pick up locations and then filtering our rows by this criteria."
   ]
  },
  {
   "cell_type": "code",
   "execution_count": 847,
   "metadata": {},
   "outputs": [
    {
     "data": {
      "text/plain": [
       "<matplotlib.text.Text at 0x1b85a6be0>"
      ]
     },
     "execution_count": 847,
     "metadata": {},
     "output_type": "execute_result"
    },
    {
     "data": {
      "image/png": "[encoded data removed]",
      "text/plain": [
       "<matplotlib.figure.Figure at 0x122991e80>"
      ]
     },
     "metadata": {},
     "output_type": "display_data"
    }
   ],
   "source": [
    "_ = plt.hist(df.speed,bins = 600)\n",
    "plt.xlim(0,100)\n",
    "plt.xlabel('Speed')"
   ]
  },
  {
   "cell_type": "markdown",
   "metadata": {},
   "source": [
    "In the above plot, we can see an interesting feature for all the airport trips, that the speed follow a noral distribution - and the median as well as modal speed is around 30 miles per hour."
   ]
  },
  {
   "cell_type": "markdown",
   "metadata": {},
   "source": [
    "# Part 4"
   ]
  },
  {
   "cell_type": "code",
   "execution_count": 825,
   "metadata": {
    "collapsed": true
   },
   "outputs": [],
   "source": [
    "#data processing - \n",
    "\n",
    "#adding a tip percentage column which will be our target value\n",
    "data['tip_percentage'] = (data['Tip_amount']/data['Total_amount'])*100\n",
    "\n",
    "#removing infinite values from the tip percentage column\n",
    "data = data[data['tip_percentage'] != float('inf')]\n",
    "\n",
    "\n",
    "#converting the pickup and drop off time columns into datetime type columns\n",
    "data['Lpep_dropoff_datetime'] = pd.to_datetime(data['Lpep_dropoff_datetime'])\n",
    "data['lpep_pickup_datetime'] = pd.to_datetime(data['lpep_pickup_datetime'])\n",
    "\n"
   ]
  },
  {
   "cell_type": "code",
   "execution_count": 826,
   "metadata": {},
   "outputs": [],
   "source": [
    "#adding a \"trip_duration\" column\n",
    "data['trip_duration'] = round((((data['Lpep_dropoff_datetime'] - data['lpep_pickup_datetime']).dt.seconds)/3600),2) "
   ]
  },
  {
   "cell_type": "code",
   "execution_count": 615,
   "metadata": {
    "collapsed": true
   },
   "outputs": [],
   "source": [
    "#adding a speed column for an extra feature\n",
    "data['speed'] = data['Trip_distance']/data['trip_duration'] \n"
   ]
  },
  {
   "cell_type": "code",
   "execution_count": 616,
   "metadata": {
    "collapsed": true
   },
   "outputs": [],
   "source": [
    "#adding a fare per mile column for an extra feature\n",
    "data['fare_per_mi'] = data['Total_amount']/data['Trip_distance'] "
   ]
  },
  {
   "cell_type": "code",
   "execution_count": 617,
   "metadata": {},
   "outputs": [],
   "source": [
    "#adding pick up and drop hour columns as extra features\n",
    "data['pickup_hour'] = (pd.to_datetime(data.lpep_pickup_datetime)).dt.hour\n",
    "data['drop_hour'] = (pd.to_datetime(data.Lpep_dropoff_datetime)).dt.hour\n",
    "\n"
   ]
  },
  {
   "cell_type": "code",
   "execution_count": 618,
   "metadata": {},
   "outputs": [],
   "source": [
    "#Only taking rows where tip amount is more than 0\n",
    "data = data[data['Tip_amount'] > 0]"
   ]
  },
  {
   "cell_type": "code",
   "execution_count": 619,
   "metadata": {},
   "outputs": [],
   "source": [
    "#removing rows in the fare per mile column with infinite values\n",
    "data = data[data['fare_per_mi'] != float('inf')]\n"
   ]
  },
  {
   "cell_type": "code",
   "execution_count": 620,
   "metadata": {
    "collapsed": true
   },
   "outputs": [],
   "source": [
    "#removing infinite values from speed column\n",
    "data = data[data['speed'] != float('inf')]"
   ]
  },
  {
   "cell_type": "code",
   "execution_count": 622,
   "metadata": {},
   "outputs": [],
   "source": [
    "#dropping the Ehail_fee column\n",
    "data= data.drop('Ehail_fee',axis=1)"
   ]
  },
  {
   "cell_type": "code",
   "execution_count": 624,
   "metadata": {},
   "outputs": [],
   "source": [
    "#dropping the null values\n",
    "data = data.dropna()\n"
   ]
  },
  {
   "cell_type": "code",
   "execution_count": 593,
   "metadata": {},
   "outputs": [],
   "source": [
    "#finding correlated features for tip_amt for getting a sense of what features are important\n",
    "data.corr()['Tip_amount'];"
   ]
  },
  {
   "cell_type": "code",
   "execution_count": 510,
   "metadata": {
    "collapsed": true
   },
   "outputs": [],
   "source": [
    "from sklearn.linear_model import Ridge, LinearRegression, Lasso, ElasticNet\n"
   ]
  },
  {
   "cell_type": "code",
   "execution_count": null,
   "metadata": {},
   "outputs": [],
   "source": [
    "#defining features and target sets\n",
    "\n",
    "#removing a few columns from features which are irrelevant\n",
    "X = data.drop(['lpep_pickup_datetime','Lpep_dropoff_datetime','Store_and_fwd_flag','Payment_type','tip_percentage','VendorID'], axis = 1)\n",
    "y = data['tip_percentage']"
   ]
  },
  {
   "cell_type": "code",
   "execution_count": 668,
   "metadata": {},
   "outputs": [],
   "source": [
    "#defining training and test sets\n",
    "from sklearn.model_selection import train_test_split\n",
    "X_train, X_test, y_train, y_test = train_test_split(X, y, random_state = 0)"
   ]
  },
  {
   "cell_type": "code",
   "execution_count": 669,
   "metadata": {},
   "outputs": [],
   "source": [
    "#training model 1 - elastic net model\n",
    "elastic = ElasticNet().fit(X_train,y_train)"
   ]
  },
  {
   "cell_type": "code",
   "execution_count": 670,
   "metadata": {},
   "outputs": [
    {
     "data": {
      "text/plain": [
       "array([  9.43013457,  15.26771701,  18.90415597, ...,  16.2656398 ,\n",
       "        17.90187841,  15.7900208 ])"
      ]
     },
     "execution_count": 670,
     "metadata": {},
     "output_type": "execute_result"
    }
   ],
   "source": [
    "#predicting test values using the trained model\n",
    "elastic.predict(X_test)"
   ]
  },
  {
   "cell_type": "code",
   "execution_count": 671,
   "metadata": {},
   "outputs": [
    {
     "data": {
      "text/plain": [
       "0.55461550973091955"
      ]
     },
     "execution_count": 671,
     "metadata": {},
     "output_type": "execute_result"
    }
   ],
   "source": [
    "#score for elastic net\n",
    "elastic.score(X_test,y_test)"
   ]
  },
  {
   "cell_type": "code",
   "execution_count": 673,
   "metadata": {},
   "outputs": [
    {
     "data": {
      "text/plain": [
       "array([  0.00000000e+00,  -0.00000000e+00,  -0.00000000e+00,\n",
       "         0.00000000e+00,  -0.00000000e+00,   0.00000000e+00,\n",
       "        -0.00000000e+00,  -3.57918592e-01,  -0.00000000e+00,\n",
       "        -0.00000000e+00,   1.59305198e+00,  -0.00000000e+00,\n",
       "        -0.00000000e+00,   0.00000000e+00,   0.00000000e+00,\n",
       "        -0.00000000e+00,   1.94867945e-03,   6.65168555e-04,\n",
       "        -0.00000000e+00,  -0.00000000e+00])"
      ]
     },
     "execution_count": 673,
     "metadata": {},
     "output_type": "execute_result"
    }
   ],
   "source": [
    "#seeing what features elast net gives importance to. \n",
    "elastic.coef_"
   ]
  },
  {
   "cell_type": "code",
   "execution_count": 674,
   "metadata": {},
   "outputs": [],
   "source": [
    "#training the Lasso model for comparison\n",
    "lasso = Lasso().fit(X_train,y_train)"
   ]
  },
  {
   "cell_type": "code",
   "execution_count": 675,
   "metadata": {},
   "outputs": [
    {
     "data": {
      "text/plain": [
       "array([  9.23028251,  15.39591024,  19.15969574, ...,  16.2865199 ,\n",
       "        18.03641315,  15.8722548 ])"
      ]
     },
     "execution_count": 675,
     "metadata": {},
     "output_type": "execute_result"
    }
   ],
   "source": [
    "#predicting test values using Lasso\n",
    "lasso.predict(X_test)"
   ]
  },
  {
   "cell_type": "code",
   "execution_count": 676,
   "metadata": {},
   "outputs": [
    {
     "data": {
      "text/plain": [
       "0.56101392818211626"
      ]
     },
     "execution_count": 676,
     "metadata": {},
     "output_type": "execute_result"
    }
   ],
   "source": [
    "#checking score for Lasso\n",
    "lasso.score(X_test,y_test)"
   ]
  },
  {
   "cell_type": "code",
   "execution_count": 677,
   "metadata": {},
   "outputs": [
    {
     "data": {
      "text/plain": [
       "array([  0.00000000e+00,  -0.00000000e+00,  -0.00000000e+00,\n",
       "         0.00000000e+00,  -0.00000000e+00,   0.00000000e+00,\n",
       "        -0.00000000e+00,  -3.65956874e-01,  -0.00000000e+00,\n",
       "        -0.00000000e+00,   1.65717496e+00,  -0.00000000e+00,\n",
       "        -0.00000000e+00,  -0.00000000e+00,   0.00000000e+00,\n",
       "        -0.00000000e+00,   0.00000000e+00,   1.70855020e-04,\n",
       "        -0.00000000e+00,  -0.00000000e+00])"
      ]
     },
     "execution_count": 677,
     "metadata": {},
     "output_type": "execute_result"
    }
   ],
   "source": [
    "#checking what features Lasso gives importance to\n",
    "lasso.coef_"
   ]
  },
  {
   "cell_type": "code",
   "execution_count": 663,
   "metadata": {
    "collapsed": true
   },
   "outputs": [],
   "source": [
    "#training ridge regression model for comparison\n",
    "ridge = Ridge().fit(X_train,y_train)"
   ]
  },
  {
   "cell_type": "code",
   "execution_count": 664,
   "metadata": {},
   "outputs": [
    {
     "data": {
      "text/plain": [
       "array([  8.14696422,  15.38809966,  19.92884451, ...,  16.55013574,\n",
       "        18.87573891,  15.68573174])"
      ]
     },
     "execution_count": 664,
     "metadata": {},
     "output_type": "execute_result"
    }
   ],
   "source": [
    "#predicting test values using ridge model\n",
    "ridge.predict(X_test)"
   ]
  },
  {
   "cell_type": "code",
   "execution_count": 665,
   "metadata": {},
   "outputs": [
    {
     "data": {
      "text/plain": [
       "0.58786271418619418"
      ]
     },
     "execution_count": 665,
     "metadata": {},
     "output_type": "execute_result"
    }
   ],
   "source": [
    "#checking ridge model's score for comparison\n",
    "ridge.score(X_test,y_test)"
   ]
  },
  {
   "cell_type": "code",
   "execution_count": 666,
   "metadata": {},
   "outputs": [
    {
     "data": {
      "text/plain": [
       "array([  1.89730424e-01,   9.23033404e-01,  -1.67833242e+00,\n",
       "        -3.04680532e+00,   1.63181963e-01,   2.88368212e-01,\n",
       "         1.25576754e-02,   5.50318425e-02,  -2.71236813e-02,\n",
       "        -8.72853842e-02,  -2.19974830e+00,   2.40308841e+00,\n",
       "         6.79577350e-02,  -5.77226548e-01,  -4.20337707e-01,\n",
       "        -2.25091985e+00,  -4.48904018e-02,   1.39196044e-03,\n",
       "        -1.07378377e-03,  -7.04431793e-04,  -3.66112125e-04])"
      ]
     },
     "execution_count": 666,
     "metadata": {},
     "output_type": "execute_result"
    }
   ],
   "source": [
    "#checking what features the ridge model gives the most importance to.\n",
    "ridge.coef_"
   ]
  },
  {
   "cell_type": "markdown",
   "metadata": {},
   "source": [
    "Insights - \n",
    "- We see that the highest accuracy we get is from the Ridge regression model. The accuracy for ridge regression is about ~60%"
   ]
  },
  {
   "cell_type": "markdown",
   "metadata": {},
   "source": [
    "# Part 5"
   ]
  },
  {
   "cell_type": "markdown",
   "metadata": {},
   "source": [
    "Visualising and understanding the inter borough and intra borough traffic"
   ]
  },
  {
   "cell_type": "code",
   "execution_count": 806,
   "metadata": {},
   "outputs": [],
   "source": [
    "#taking a small fraction of the data to classify them into boroughs\n",
    "df = data.sample(frac=0.01, replace=False)\n",
    "\n",
    "#making two new columns - categorical variables - pickup and drop of boroughs, with values 1 = Manhattan, 2 = Queens,\n",
    "# 3 = Bronx, 4 = Brooklyn and 5 = Staten Island\n",
    "#Initializing them to 0 at first\n",
    "df['pickup_borough'] = 0\n",
    "df['drop_borough'] = 0\n",
    "\n"
   ]
  },
  {
   "cell_type": "code",
   "execution_count": 809,
   "metadata": {},
   "outputs": [],
   "source": [
    "df['index'] = range(11761)\n",
    "df.set_index('index');"
   ]
  },
  {
   "cell_type": "code",
   "execution_count": 811,
   "metadata": {},
   "outputs": [],
   "source": [
    "#taking the values that lie within a range of latitude and longitude values to classify pick up and drop of locations as boroughs for each borough\n",
    "\n",
    "#classification for Staten Island\n",
    "for row in range(len(df)):\n",
    "    if (df.iloc[row]['Pickup_latitude'] > 40.49 and df.iloc[row]['Pickup_latitude'] < 40.64) and (df.iloc[row]['Pickup_longitude'] < -74.07 and df.iloc[row]['Pickup_longitude'] > -74.19):\n",
    "        \n",
    "        df.loc[row,'pickup_borough'] = 5\n",
    "\n",
    "    "
   ]
  },
  {
   "cell_type": "code",
   "execution_count": 814,
   "metadata": {},
   "outputs": [],
   "source": [
    "#classification for Manhattan\n",
    "for row in range(len(df)):\n",
    "    if (df.iloc[row]['Pickup_latitude'] > 40.70 and df.iloc[row]['Pickup_latitude'] < 40.80) and (df.iloc[row]['Pickup_longitude'] < -73.94 and df.iloc[row]['Pickup_longitude'] > -74.02):\n",
    "        df.loc[row,'pickup_borough'] = 1"
   ]
  },
  {
   "cell_type": "code",
   "execution_count": 816,
   "metadata": {},
   "outputs": [],
   "source": [
    "#classification for Bronx\n",
    "for row in range(len(df)):\n",
    "    if ((df.iloc[row]['Pickup_latitude'] > 40.80 and df.iloc[row]['Pickup_latitude'] < 40.90) and (df.iloc[row]['Pickup_longitude'] < -73.81 and df.iloc[row]['Pickup_longitude'] > -73.92)):\n",
    "        df.loc[row,'pickup_borough'] = 3"
   ]
  },
  {
   "cell_type": "code",
   "execution_count": 819,
   "metadata": {
    "collapsed": true
   },
   "outputs": [],
   "source": [
    "#classification for Brooklyn\n",
    "for row in range(len(df)):\n",
    "    if ((df.iloc[row]['Pickup_latitude'] > 40.57 and df.iloc[row]['Pickup_latitude'] < 40.68) and (df.iloc[row]['Pickup_longitude'] < -73.88 and df.iloc[row]['Pickup_longitude'] > -74.02)):\n",
    "        df.loc[row,'pickup_borough'] = 4"
   ]
  },
  {
   "cell_type": "code",
   "execution_count": 822,
   "metadata": {
    "collapsed": true
   },
   "outputs": [],
   "source": [
    "#classification for Queens\n",
    "for row in range(len(df)):\n",
    "    if ((df.iloc[row]['Pickup_latitude'] > 40.67 and df.iloc[row]['Pickup_latitude'] < 40.79) and (df.iloc[row]['Pickup_longitude'] < -73.72 and df.iloc[row]['Pickup_longitude'] > -73.94)):\n",
    "        df.loc[row,'drop_borough'] = 2\n",
    "   "
   ]
  },
  {
   "cell_type": "code",
   "execution_count": null,
   "metadata": {
    "collapsed": true
   },
   "outputs": [],
   "source": [
    "#similarly trying to find the identify the drop off location boroughs\n",
    "for row in range(len(data)):\n",
    "    if (float(round(data.iloc[row]['Dropoff_latitude'],2)) > 40.49 and float(round(data.iloc[row]['Dropoff_latitude'],2)) < 40.64) and (float(round(data.iloc[row]['Dropoff_longitude'],2))< -74.07 and float(round(data.iloc[row]['Dropoff_longitude'],2)) > -74.19):\n",
    "        \n",
    "        data.loc[row,'drop_borough'] = 5\n",
    "\n",
    "    elif (float(round(data.iloc[row]['Dropoff_latitude'],2)) > 40.70 and float(round(data.iloc[row]['Dropoff_latitude'],2)) < 40.80) and (float(round(data.iloc[row]['Dropoff_longitude'],2))< -73.94 and float(round(data.iloc[row]['Dropoff_longitude'],2)) > -74.02):\n",
    "        data.loc[row,'drop_borough'] = 1\n",
    "    elif (float(round(data.iloc[row]['Dropoff_latitude'],2)) > 40.80 and float(round(data.iloc[row]['Dropoff_latitude'],2)) < 40.90) and (float(round(data.iloc[row]['Dropoff_longitude'],2))< -73.81 and float(round(data.iloc[row]['Dropoff_longitude'],2)) > -73.92):\n",
    "        data.loc[row,'drop_borough'] = 3\n",
    "    elif (float(round(data.iloc[row]['Dropoff_latitude'],2)) > 40.57 and float(round(data.iloc[row]['Dropoff_latitude'],2)) < 40.68) and (float(round(data.iloc[row]['Dropoff_longitude'],2))< -73.88 and float(round(data.iloc[row]['Dropoff_longitude'],2)) > -74.02):\n",
    "        data.loc[row,'drop_borough'] = 4\n",
    "    elif (float(round(data.iloc[row]['Dropoff_latitude'],2)) > 40.67 and float(round(data.iloc[row]['Dropoff_latitude'],2)) < 40.79) and (float(round(data.iloc[row]['Dropoff_longitude'],2))< -73.72 and float(round(data.iloc[row]['Dropoff_longitude'],2)) > -73.94):\n",
    "        data.loc[row,'drop_borough'] = 2"
   ]
  },
  {
   "cell_type": "code",
   "execution_count": 779,
   "metadata": {},
   "outputs": [
    {
     "data": {
      "text/plain": [
       "<matplotlib.collections.PathCollection at 0x195508828>"
      ]
     },
     "execution_count": 779,
     "metadata": {},
     "output_type": "execute_result"
    },
    {
     "data": {
      "image/png": "[encoded data removed]",
      "text/plain": [
       "<matplotlib.figure.Figure at 0x1954fd940>"
      ]
     },
     "metadata": {},
     "output_type": "display_data"
    }
   ],
   "source": [
    "#plotting pick up boroughs vs drop off boroughs to see the inter vs intra borough traffic.\n",
    "#diagonals give intra borough traffic whereas the other points give the inter borough traffic.\n",
    "#we see \"0\" as one of the boroughs due to the null values because of the inaccuracy of the ranges of the latitudes and longitudes boundaries \n",
    "#  of boroughs taken roughly from google maps\n",
    "plt.scatter(data['pickup_borough'],data['drop_borough'])"
   ]
  }
 ],
 "metadata": {
  "kernelspec": {
   "display_name": "Python new_env",
   "language": "python",
   "name": "new_env"
  },
  "language_info": {
   "codemirror_mode": {
    "name": "ipython",
    "version": 3
   },
   "file_extension": ".py",
   "mimetype": "text/x-python",
   "name": "python",
   "nbconvert_exporter": "python",
   "pygments_lexer": "ipython3",
   "version": "3.4.5"
  }
 },
 "nbformat": 4,
 "nbformat_minor": 2
}
